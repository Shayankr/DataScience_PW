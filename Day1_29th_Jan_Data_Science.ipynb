{
 "cells": [
  {
   "cell_type": "code",
   "execution_count": 1,
   "id": "f1a32916-0b22-4891-9618-8c987c4a57f3",
   "metadata": {
    "id": "f1a32916-0b22-4891-9618-8c987c4a57f3"
   },
   "outputs": [],
   "source": [
    "a=10"
   ]
  },
  {
   "cell_type": "code",
   "execution_count": 2,
   "id": "3cc780eb-77d9-49ff-8f2c-952f6d6762cd",
   "metadata": {
    "colab": {
     "base_uri": "https://localhost:8080/"
    },
    "id": "3cc780eb-77d9-49ff-8f2c-952f6d6762cd",
    "outputId": "916c54dd-e3fe-4346-80b6-d70d2a1879f6"
   },
   "outputs": [
    {
     "data": {
      "text/plain": [
       "10"
      ]
     },
     "execution_count": 2,
     "metadata": {},
     "output_type": "execute_result"
    }
   ],
   "source": [
    "a"
   ]
  },
  {
   "cell_type": "code",
   "execution_count": 6,
   "id": "3eb5e2df-507e-4fcc-970e-51fd94d17523",
   "metadata": {
    "colab": {
     "base_uri": "https://localhost:8080/"
    },
    "id": "3eb5e2df-507e-4fcc-970e-51fd94d17523",
    "outputId": "9bfbbc6e-32f3-45ca-9949-459bd1d84ec8"
   },
   "outputs": [
    {
     "data": {
      "text/plain": [
       "20"
      ]
     },
     "execution_count": 6,
     "metadata": {},
     "output_type": "execute_result"
    }
   ],
   "source": [
    "## Comments\n",
    "# this is a comment\n",
    "a=20\n",
    "a"
   ]
  },
  {
   "cell_type": "code",
   "execution_count": 7,
   "id": "2389175a-cca1-4a66-acb8-84b6dd4b2801",
   "metadata": {
    "colab": {
     "base_uri": "https://localhost:8080/"
    },
    "id": "2389175a-cca1-4a66-acb8-84b6dd4b2801",
    "outputId": "e82609c4-3556-4d8a-fa55-5147210c3481"
   },
   "outputs": [
    {
     "data": {
      "text/plain": [
       "20"
      ]
     },
     "execution_count": 7,
     "metadata": {},
     "output_type": "execute_result"
    }
   ],
   "source": [
    "\"\"\"\n",
    "Example of multiline comments\n",
    "hello this is a example of python\n",
    "dsfsdfdfdsf\n",
    "dfsdfsdfsdfdsf\n",
    "dfdsfdsfsdf\n",
    "\"\"\"\n",
    "a=20\n",
    "a"
   ]
  },
  {
   "cell_type": "markdown",
   "id": "e473a53e-c6a6-4b07-9f6b-98ef306e47b1",
   "metadata": {
    "id": "e473a53e-c6a6-4b07-9f6b-98ef306e47b1"
   },
   "source": [
    "### Numbers"
   ]
  },
  {
   "cell_type": "code",
   "execution_count": 8,
   "id": "e3d3ec40-acb1-4ff6-a8a9-c0d27c8ffe00",
   "metadata": {
    "colab": {
     "base_uri": "https://localhost:8080/"
    },
    "id": "e3d3ec40-acb1-4ff6-a8a9-c0d27c8ffe00",
    "outputId": "21f5f1b9-21fe-4979-e30c-e2d3838f7cf9"
   },
   "outputs": [
    {
     "data": {
      "text/plain": [
       "4"
      ]
     },
     "execution_count": 8,
     "metadata": {},
     "output_type": "execute_result"
    }
   ],
   "source": [
    "1+3"
   ]
  },
  {
   "cell_type": "code",
   "execution_count": 9,
   "id": "78a10e2f-7636-45e4-8ea2-1eabce896551",
   "metadata": {
    "colab": {
     "base_uri": "https://localhost:8080/"
    },
    "id": "78a10e2f-7636-45e4-8ea2-1eabce896551",
    "outputId": "76c2b140-9efb-4019-c266-d0257d5ebb34"
   },
   "outputs": [
    {
     "name": "stdout",
     "output_type": "stream",
     "text": [
      "4\n"
     ]
    }
   ],
   "source": [
    "print(1+3)"
   ]
  },
  {
   "cell_type": "code",
   "execution_count": 10,
   "id": "beb5cced-2e48-49a7-a6d3-8b8f35670b73",
   "metadata": {
    "colab": {
     "base_uri": "https://localhost:8080/"
    },
    "id": "beb5cced-2e48-49a7-a6d3-8b8f35670b73",
    "outputId": "34cb6276-0fd5-4f25-8157-bb4bfd7f8b76"
   },
   "outputs": [
    {
     "name": "stdout",
     "output_type": "stream",
     "text": [
      "5\n"
     ]
    }
   ],
   "source": [
    "a=5\n",
    "print(a)"
   ]
  },
  {
   "cell_type": "code",
   "execution_count": 12,
   "id": "caca7433-147f-48fa-ae22-6d3af37ca424",
   "metadata": {
    "colab": {
     "base_uri": "https://localhost:8080/"
    },
    "id": "caca7433-147f-48fa-ae22-6d3af37ca424",
    "outputId": "54036ee1-cccf-4443-b96e-706faed26717"
   },
   "outputs": [
    {
     "name": "stdout",
     "output_type": "stream",
     "text": [
      "hello world my name is Shayan \n",
      " How are you?\n"
     ]
    }
   ],
   "source": [
    "print(\"hello world my name is Shayan \\n How are you?\")"
   ]
  },
  {
   "cell_type": "markdown",
   "id": "f4d82d79-aed7-49b4-90f8-e08a332d381a",
   "metadata": {
    "id": "f4d82d79-aed7-49b4-90f8-e08a332d381a"
   },
   "source": [
    "## Variables Assignment"
   ]
  },
  {
   "cell_type": "code",
   "execution_count": 14,
   "id": "971ea0ae-5a22-46c6-843c-4352b7d9f36b",
   "metadata": {
    "id": "971ea0ae-5a22-46c6-843c-4352b7d9f36b"
   },
   "outputs": [],
   "source": [
    "name=\"Shayan\"\n",
    "company=\"Student\""
   ]
  },
  {
   "cell_type": "code",
   "execution_count": 16,
   "id": "d3ed327b-2923-488b-8fe8-af3270872b29",
   "metadata": {
    "colab": {
     "base_uri": "https://localhost:8080/"
    },
    "id": "d3ed327b-2923-488b-8fe8-af3270872b29",
    "outputId": "3363aa63-91e0-4647-af5d-133abe4bac66"
   },
   "outputs": [
    {
     "data": {
      "text/plain": [
       "str"
      ]
     },
     "execution_count": 16,
     "metadata": {},
     "output_type": "execute_result"
    }
   ],
   "source": [
    "type(\"sk\")"
   ]
  },
  {
   "cell_type": "code",
   "execution_count": 17,
   "id": "e5c73eba-4909-4c22-b901-562e068e4e69",
   "metadata": {
    "colab": {
     "base_uri": "https://localhost:8080/"
    },
    "id": "e5c73eba-4909-4c22-b901-562e068e4e69",
    "outputId": "ac29d4d1-9e0b-4b3d-d690-d39393764c85"
   },
   "outputs": [
    {
     "data": {
      "text/plain": [
       "str"
      ]
     },
     "execution_count": 17,
     "metadata": {},
     "output_type": "execute_result"
    }
   ],
   "source": [
    "type(name)"
   ]
  },
  {
   "cell_type": "code",
   "execution_count": 17,
   "id": "605bb551-5105-42f7-969c-2a4bca0997c2",
   "metadata": {
    "id": "605bb551-5105-42f7-969c-2a4bca0997c2"
   },
   "outputs": [],
   "source": []
  },
  {
   "cell_type": "code",
   "execution_count": 18,
   "id": "ec3b5960-7990-41ae-b562-10cca4727062",
   "metadata": {
    "id": "ec3b5960-7990-41ae-b562-10cca4727062"
   },
   "outputs": [],
   "source": [
    "name=\"kr\""
   ]
  },
  {
   "cell_type": "code",
   "execution_count": 19,
   "id": "f3eaf7f2-3cea-488e-a9d8-7dbeb0bce03e",
   "metadata": {
    "colab": {
     "base_uri": "https://localhost:8080/",
     "height": 36
    },
    "id": "f3eaf7f2-3cea-488e-a9d8-7dbeb0bce03e",
    "outputId": "4f0ec51b-d7dc-4944-8699-9bbcc43c2ca1"
   },
   "outputs": [
    {
     "data": {
      "application/vnd.google.colaboratory.intrinsic+json": {
       "type": "string"
      },
      "text/plain": [
       "'kr'"
      ]
     },
     "execution_count": 19,
     "metadata": {},
     "output_type": "execute_result"
    }
   ],
   "source": [
    "name"
   ]
  },
  {
   "cell_type": "code",
   "execution_count": 20,
   "id": "e42fc652-5930-4bd5-829f-eea22a553c42",
   "metadata": {
    "colab": {
     "base_uri": "https://localhost:8080/",
     "height": 36
    },
    "id": "e42fc652-5930-4bd5-829f-eea22a553c42",
    "outputId": "af3d6585-f2c7-4b63-b664-1bd37b7b8c41"
   },
   "outputs": [
    {
     "data": {
      "application/vnd.google.colaboratory.intrinsic+json": {
       "type": "string"
      },
      "text/plain": [
       "'Student'"
      ]
     },
     "execution_count": 20,
     "metadata": {},
     "output_type": "execute_result"
    }
   ],
   "source": [
    "company"
   ]
  },
  {
   "cell_type": "code",
   "execution_count": 21,
   "id": "127ab07b-7788-44cd-81a4-1dc95890f0b9",
   "metadata": {
    "id": "127ab07b-7788-44cd-81a4-1dc95890f0b9"
   },
   "outputs": [],
   "source": [
    "number=10"
   ]
  },
  {
   "cell_type": "code",
   "execution_count": 22,
   "id": "55cc9205-c02b-4cd1-8b94-52e8228c3488",
   "metadata": {
    "colab": {
     "base_uri": "https://localhost:8080/"
    },
    "id": "55cc9205-c02b-4cd1-8b94-52e8228c3488",
    "outputId": "52b19578-78e7-45de-e3b4-ab633d9c3860"
   },
   "outputs": [
    {
     "data": {
      "text/plain": [
       "int"
      ]
     },
     "execution_count": 22,
     "metadata": {},
     "output_type": "execute_result"
    }
   ],
   "source": [
    "type(number)"
   ]
  },
  {
   "cell_type": "code",
   "execution_count": 23,
   "id": "e39cea8f-8787-4204-ba53-49d4c85d553c",
   "metadata": {
    "colab": {
     "base_uri": "https://localhost:8080/"
    },
    "id": "e39cea8f-8787-4204-ba53-49d4c85d553c",
    "outputId": "0db536c7-f26c-4250-a998-7cf2c5ea2ea9"
   },
   "outputs": [
    {
     "data": {
      "text/plain": [
       "20"
      ]
     },
     "execution_count": 23,
     "metadata": {},
     "output_type": "execute_result"
    }
   ],
   "source": [
    "number=20\n",
    "number"
   ]
  },
  {
   "cell_type": "code",
   "execution_count": 24,
   "id": "8e39ba66-b14d-48f1-80e9-db85a7c16ad5",
   "metadata": {
    "id": "8e39ba66-b14d-48f1-80e9-db85a7c16ad5"
   },
   "outputs": [],
   "source": [
    "decimal_num=2.5"
   ]
  },
  {
   "cell_type": "code",
   "execution_count": 25,
   "id": "296f5308-8cc5-4309-922b-926178aa5380",
   "metadata": {
    "colab": {
     "base_uri": "https://localhost:8080/"
    },
    "id": "296f5308-8cc5-4309-922b-926178aa5380",
    "outputId": "286a2167-c4ec-40e1-db8e-abf014053891"
   },
   "outputs": [
    {
     "data": {
      "text/plain": [
       "2.5"
      ]
     },
     "execution_count": 25,
     "metadata": {},
     "output_type": "execute_result"
    }
   ],
   "source": [
    "decimal_num"
   ]
  },
  {
   "cell_type": "code",
   "execution_count": 26,
   "id": "1e8f96c4-c830-460e-98f0-384414a277f3",
   "metadata": {
    "colab": {
     "base_uri": "https://localhost:8080/"
    },
    "id": "1e8f96c4-c830-460e-98f0-384414a277f3",
    "outputId": "6a993710-d360-469c-e104-cc4eef314211"
   },
   "outputs": [
    {
     "data": {
      "text/plain": [
       "float"
      ]
     },
     "execution_count": 26,
     "metadata": {},
     "output_type": "execute_result"
    }
   ],
   "source": [
    "type(decimal_num)"
   ]
  },
  {
   "cell_type": "code",
   "execution_count": 27,
   "id": "eb82eef2-1ab0-4e4d-891c-118db4ab1253",
   "metadata": {
    "colab": {
     "base_uri": "https://localhost:8080/"
    },
    "id": "eb82eef2-1ab0-4e4d-891c-118db4ab1253",
    "outputId": "2d3c33af-bcd2-4562-c05a-41f9bc9c552e"
   },
   "outputs": [
    {
     "data": {
      "text/plain": [
       "str"
      ]
     },
     "execution_count": 27,
     "metadata": {},
     "output_type": "execute_result"
    }
   ],
   "source": [
    "type(\"hello\")"
   ]
  },
  {
   "cell_type": "code",
   "execution_count": 28,
   "id": "83faa0d6-e219-4ec8-a1d8-6f21bc06af38",
   "metadata": {
    "colab": {
     "base_uri": "https://localhost:8080/"
    },
    "id": "83faa0d6-e219-4ec8-a1d8-6f21bc06af38",
    "outputId": "151a5137-05e5-4d7d-f837-899f2531b832"
   },
   "outputs": [
    {
     "data": {
      "text/plain": [
       "complex"
      ]
     },
     "execution_count": 28,
     "metadata": {},
     "output_type": "execute_result"
    }
   ],
   "source": [
    "type(1+2j)"
   ]
  },
  {
   "cell_type": "code",
   "execution_count": 29,
   "id": "6b3ebbb0-abf7-4a6f-8ef1-7f2c7dd60e2c",
   "metadata": {
    "colab": {
     "base_uri": "https://localhost:8080/"
    },
    "id": "6b3ebbb0-abf7-4a6f-8ef1-7f2c7dd60e2c",
    "outputId": "14711b5d-7506-42fd-8ba5-d79af699be69"
   },
   "outputs": [
    {
     "name": "stdout",
     "output_type": "stream",
     "text": [
      "hello\n",
      "hello\n"
     ]
    }
   ],
   "source": [
    "print('hello')\n",
    "print(\"hello\")"
   ]
  },
  {
   "cell_type": "code",
   "execution_count": 30,
   "id": "d1544044-b8db-4445-93ad-15033b400802",
   "metadata": {
    "colab": {
     "base_uri": "https://localhost:8080/",
     "height": 135
    },
    "id": "d1544044-b8db-4445-93ad-15033b400802",
    "outputId": "5e9e48ab-86bb-467b-81e5-7649ca8462f1"
   },
   "outputs": [
    {
     "ename": "SyntaxError",
     "evalue": "ignored",
     "output_type": "error",
     "traceback": [
      "\u001b[0;36m  File \u001b[0;32m\"<ipython-input-30-4c9e9363cd38>\"\u001b[0;36m, line \u001b[0;32m3\u001b[0m\n\u001b[0;31m    1a\u001b[0m\n\u001b[0m     ^\u001b[0m\n\u001b[0;31mSyntaxError\u001b[0m\u001b[0;31m:\u001b[0m invalid syntax\n"
     ]
    }
   ],
   "source": [
    "##bad way\n",
    "## dont start the variable name with numbers\n",
    "1a\n",
    "3answer"
   ]
  },
  {
   "cell_type": "code",
   "execution_count": 31,
   "id": "9eda26fa-89ad-4245-ae05-4a9c5882ea52",
   "metadata": {
    "id": "9eda26fa-89ad-4245-ae05-4a9c5882ea52"
   },
   "outputs": [],
   "source": [
    "number1=23"
   ]
  },
  {
   "cell_type": "code",
   "execution_count": 32,
   "id": "932358cd-5192-45ef-ab65-377df8349d0c",
   "metadata": {
    "colab": {
     "base_uri": "https://localhost:8080/"
    },
    "id": "932358cd-5192-45ef-ab65-377df8349d0c",
    "outputId": "0dad71b6-06e1-4f97-a3d5-3fa496509d71"
   },
   "outputs": [
    {
     "name": "stdout",
     "output_type": "stream",
     "text": [
      "ineuron\n",
      "PWSKILLS\n"
     ]
    }
   ],
   "source": [
    "## Variables are case senssitive\n",
    "company='ineuron'\n",
    "Company='PWSKILLS'\n",
    "print(company)\n",
    "print(Company)"
   ]
  },
  {
   "cell_type": "code",
   "execution_count": 33,
   "id": "b6d6fb21-beb8-4cff-9626-a74b9c4c09c9",
   "metadata": {
    "colab": {
     "base_uri": "https://localhost:8080/",
     "height": 36
    },
    "id": "b6d6fb21-beb8-4cff-9626-a74b9c4c09c9",
    "outputId": "91783eda-0945-4f1e-cccd-02eb0a38f43b"
   },
   "outputs": [
    {
     "data": {
      "application/vnd.google.colaboratory.intrinsic+json": {
       "type": "string"
      },
      "text/plain": [
       "'\\nint,float,len,complex,bool,str,return,yield\\n'"
      ]
     },
     "execution_count": 33,
     "metadata": {},
     "output_type": "execute_result"
    }
   ],
   "source": [
    "## Reserved keywords\n",
    "'''\n",
    "int,float,len,complex,bool,str,return,yield\n",
    "'''"
   ]
  },
  {
   "cell_type": "code",
   "execution_count": 38,
   "id": "FqFKxjHJGi8P",
   "metadata": {
    "colab": {
     "base_uri": "https://localhost:8080/"
    },
    "id": "FqFKxjHJGi8P",
    "outputId": "99c1e286-8066-4e23-ec5c-c63c7d4d3ff0"
   },
   "outputs": [
    {
     "name": "stdout",
     "output_type": "stream",
     "text": [
      "['False', 'None', 'True', 'and', 'as', 'assert', 'async', 'await', 'break', 'class', 'continue', 'def', 'del', 'elif', 'else', 'except', 'finally', 'for', 'from', 'global', 'if', 'import', 'in', 'is', 'lambda', 'nonlocal', 'not', 'or', 'pass', 'raise', 'return', 'try', 'while', 'with', 'yield']\n"
     ]
    }
   ],
   "source": [
    "import keyword\n",
    "\n",
    "print(keyword.kwlist)"
   ]
  },
  {
   "cell_type": "code",
   "execution_count": 39,
   "id": "6a734953-17b8-4196-90de-4b7616332766",
   "metadata": {
    "id": "6a734953-17b8-4196-90de-4b7616332766"
   },
   "outputs": [],
   "source": [
    "float=32"
   ]
  },
  {
   "cell_type": "code",
   "execution_count": 40,
   "id": "8a2b871d-6451-4919-9a47-f8c858b35267",
   "metadata": {
    "colab": {
     "base_uri": "https://localhost:8080/"
    },
    "id": "8a2b871d-6451-4919-9a47-f8c858b35267",
    "outputId": "fc0412c0-232a-4662-f13d-89f9901c8f20"
   },
   "outputs": [
    {
     "data": {
      "text/plain": [
       "True"
      ]
     },
     "execution_count": 40,
     "metadata": {},
     "output_type": "execute_result"
    }
   ],
   "source": [
    "##Boolean\n",
    "True"
   ]
  },
  {
   "cell_type": "code",
   "execution_count": 41,
   "id": "13b61e46-94d4-4ca0-bf8d-e37037e4e094",
   "metadata": {
    "colab": {
     "base_uri": "https://localhost:8080/"
    },
    "id": "13b61e46-94d4-4ca0-bf8d-e37037e4e094",
    "outputId": "91586055-962d-4682-daa9-0c1d3c10f267"
   },
   "outputs": [
    {
     "data": {
      "text/plain": [
       "False"
      ]
     },
     "execution_count": 41,
     "metadata": {},
     "output_type": "execute_result"
    }
   ],
   "source": [
    "False"
   ]
  },
  {
   "cell_type": "code",
   "execution_count": 42,
   "id": "5dab5101-167b-4581-a849-e0498b5c317c",
   "metadata": {
    "colab": {
     "base_uri": "https://localhost:8080/"
    },
    "id": "5dab5101-167b-4581-a849-e0498b5c317c",
    "outputId": "652b9cb3-1074-438f-80a4-e0be1e794a5f"
   },
   "outputs": [
    {
     "data": {
      "text/plain": [
       "False"
      ]
     },
     "execution_count": 42,
     "metadata": {},
     "output_type": "execute_result"
    }
   ],
   "source": [
    "True and False"
   ]
  },
  {
   "cell_type": "code",
   "execution_count": 43,
   "id": "fe2c1827-bfba-4267-a8e9-900c0387f019",
   "metadata": {
    "colab": {
     "base_uri": "https://localhost:8080/"
    },
    "id": "fe2c1827-bfba-4267-a8e9-900c0387f019",
    "outputId": "26a92bcf-b23c-4dfa-8528-23c6a643eaa2"
   },
   "outputs": [
    {
     "data": {
      "text/plain": [
       "True"
      ]
     },
     "execution_count": 43,
     "metadata": {},
     "output_type": "execute_result"
    }
   ],
   "source": [
    "True or False"
   ]
  },
  {
   "cell_type": "code",
   "execution_count": 44,
   "id": "c120399d-d02c-4770-bc6a-384d336daff9",
   "metadata": {
    "colab": {
     "base_uri": "https://localhost:8080/"
    },
    "id": "c120399d-d02c-4770-bc6a-384d336daff9",
    "outputId": "c3725021-74ef-4fe0-a2ec-bab64d1b5c93"
   },
   "outputs": [
    {
     "data": {
      "text/plain": [
       "False"
      ]
     },
     "execution_count": 44,
     "metadata": {},
     "output_type": "execute_result"
    }
   ],
   "source": [
    "not True"
   ]
  },
  {
   "cell_type": "code",
   "execution_count": 45,
   "id": "1351bec8-2e41-458d-9dae-c0268f28fd40",
   "metadata": {
    "colab": {
     "base_uri": "https://localhost:8080/"
    },
    "id": "1351bec8-2e41-458d-9dae-c0268f28fd40",
    "outputId": "84414d3c-ff72-4e5b-c01b-b0a33f50b8c3"
   },
   "outputs": [
    {
     "data": {
      "text/plain": [
       "bool"
      ]
     },
     "execution_count": 45,
     "metadata": {},
     "output_type": "execute_result"
    }
   ],
   "source": [
    "type(not False)"
   ]
  },
  {
   "cell_type": "code",
   "execution_count": 46,
   "id": "53534b69-4ce1-4853-9f82-9fed89d189f1",
   "metadata": {
    "colab": {
     "base_uri": "https://localhost:8080/"
    },
    "id": "53534b69-4ce1-4853-9f82-9fed89d189f1",
    "outputId": "6ece8912-9543-46b2-d71d-5604f27ea6a6"
   },
   "outputs": [
    {
     "data": {
      "text/plain": [
       "False"
      ]
     },
     "execution_count": 46,
     "metadata": {},
     "output_type": "execute_result"
    }
   ],
   "source": [
    "## Typecasting\n",
    "bool(0)"
   ]
  },
  {
   "cell_type": "code",
   "execution_count": 47,
   "id": "80170bec-41e6-47f4-8175-31903d56ab07",
   "metadata": {
    "colab": {
     "base_uri": "https://localhost:8080/",
     "height": 36
    },
    "id": "80170bec-41e6-47f4-8175-31903d56ab07",
    "outputId": "b17214d3-9bfa-4350-acaa-c300bde7d1bb"
   },
   "outputs": [
    {
     "data": {
      "application/vnd.google.colaboratory.intrinsic+json": {
       "type": "string"
      },
      "text/plain": [
       "'23'"
      ]
     },
     "execution_count": 47,
     "metadata": {},
     "output_type": "execute_result"
    }
   ],
   "source": [
    "str(23)"
   ]
  },
  {
   "cell_type": "code",
   "execution_count": 48,
   "id": "2f8b8904-63f7-4f58-9c07-33e3ed046c57",
   "metadata": {
    "colab": {
     "base_uri": "https://localhost:8080/"
    },
    "id": "2f8b8904-63f7-4f58-9c07-33e3ed046c57",
    "outputId": "d84a7f3c-c415-4801-d18b-bfed17e47347"
   },
   "outputs": [
    {
     "data": {
      "text/plain": [
       "23"
      ]
     },
     "execution_count": 48,
     "metadata": {},
     "output_type": "execute_result"
    }
   ],
   "source": [
    "int('23')"
   ]
  },
  {
   "cell_type": "code",
   "execution_count": 49,
   "id": "f1ec5c3f-0c4b-40e1-9386-d06d7c818f36",
   "metadata": {
    "colab": {
     "base_uri": "https://localhost:8080/"
    },
    "id": "f1ec5c3f-0c4b-40e1-9386-d06d7c818f36",
    "outputId": "2d4dace3-e764-4e05-c307-d69a10ac16af"
   },
   "outputs": [
    {
     "data": {
      "text/plain": [
       "int"
      ]
     },
     "execution_count": 49,
     "metadata": {},
     "output_type": "execute_result"
    }
   ],
   "source": [
    "type(int('23'))"
   ]
  },
  {
   "cell_type": "code",
   "execution_count": 50,
   "id": "ba88b2c8-28ef-4480-a3a5-7a6749983e86",
   "metadata": {
    "colab": {
     "base_uri": "https://localhost:8080/"
    },
    "id": "ba88b2c8-28ef-4480-a3a5-7a6749983e86",
    "outputId": "1d474bd3-46b9-4ace-99ea-80387bdd9c14"
   },
   "outputs": [
    {
     "data": {
      "text/plain": [
       "True"
      ]
     },
     "execution_count": 50,
     "metadata": {},
     "output_type": "execute_result"
    }
   ],
   "source": [
    "bool(1)"
   ]
  },
  {
   "cell_type": "code",
   "execution_count": 51,
   "id": "d640e261-2add-4bcc-863a-61720fbf9ca6",
   "metadata": {
    "colab": {
     "base_uri": "https://localhost:8080/"
    },
    "id": "d640e261-2add-4bcc-863a-61720fbf9ca6",
    "outputId": "63a6e4d5-d30d-4153-e130-cc38f138f3b4"
   },
   "outputs": [
    {
     "name": "stdout",
     "output_type": "stream",
     "text": [
      "True\n"
     ]
    }
   ],
   "source": [
    "a=1\n",
    "if bool(a)==True:\n",
    "    \n",
    "    print(\"True\")"
   ]
  },
  {
   "cell_type": "code",
   "execution_count": 52,
   "id": "23ad6da2-7e44-4f8a-99f3-0f994aadbffe",
   "metadata": {
    "colab": {
     "base_uri": "https://localhost:8080/"
    },
    "id": "23ad6da2-7e44-4f8a-99f3-0f994aadbffe",
    "outputId": "cc8a23d1-9f35-43c3-bb23-87bf68f3fd5a"
   },
   "outputs": [
    {
     "data": {
      "text/plain": [
       "123"
      ]
     },
     "execution_count": 52,
     "metadata": {},
     "output_type": "execute_result"
    }
   ],
   "source": [
    "int('123')"
   ]
  },
  {
   "cell_type": "markdown",
   "id": "5e3efeb7-a315-46e7-90c3-e1a3276f0767",
   "metadata": {
    "id": "5e3efeb7-a315-46e7-90c3-e1a3276f0767"
   },
   "source": [
    "### Dynamic Typing"
   ]
  },
  {
   "cell_type": "code",
   "execution_count": 54,
   "id": "a2e0d9fb-b759-4f56-aa55-6e381adbc4da",
   "metadata": {
    "id": "a2e0d9fb-b759-4f56-aa55-6e381adbc4da"
   },
   "outputs": [],
   "source": [
    "a=12\n",
    "str1=\"Shayan\"\n",
    "a=\"var\""
   ]
  },
  {
   "cell_type": "code",
   "execution_count": 55,
   "id": "a28c8802-996d-44b0-977b-59428c76cb68",
   "metadata": {
    "colab": {
     "base_uri": "https://localhost:8080/"
    },
    "id": "a28c8802-996d-44b0-977b-59428c76cb68",
    "outputId": "903bffae-513b-43c5-b431-0b50f5b3123e"
   },
   "outputs": [
    {
     "name": "stdout",
     "output_type": "stream",
     "text": [
      "<class 'str'>\n"
     ]
    }
   ],
   "source": [
    "print(type(a))"
   ]
  },
  {
   "cell_type": "code",
   "execution_count": 56,
   "id": "cf6e3443-acd9-45a5-b020-fd4ce7430d3b",
   "metadata": {
    "colab": {
     "base_uri": "https://localhost:8080/"
    },
    "id": "cf6e3443-acd9-45a5-b020-fd4ce7430d3b",
    "outputId": "e0d458a5-21aa-49a5-e9f5-0b4a8a74d97e"
   },
   "outputs": [
    {
     "data": {
      "text/plain": [
       "1"
      ]
     },
     "execution_count": 56,
     "metadata": {},
     "output_type": "execute_result"
    }
   ],
   "source": [
    "int(1.54)"
   ]
  },
  {
   "cell_type": "code",
   "execution_count": 57,
   "id": "3b9500aa-2400-4bed-bd8b-888771f0682a",
   "metadata": {
    "id": "3b9500aa-2400-4bed-bd8b-888771f0682a"
   },
   "outputs": [],
   "source": [
    "## concatenation between different types"
   ]
  },
  {
   "cell_type": "code",
   "execution_count": 58,
   "id": "9194b55a-dacb-4151-ba1a-55752727ed03",
   "metadata": {
    "colab": {
     "base_uri": "https://localhost:8080/",
     "height": 171
    },
    "id": "9194b55a-dacb-4151-ba1a-55752727ed03",
    "outputId": "48b74a3d-b0cc-42a4-cb28-3d331f1d877b"
   },
   "outputs": [
    {
     "ename": "TypeError",
     "evalue": "ignored",
     "output_type": "error",
     "traceback": [
      "\u001b[0;31m---------------------------------------------------------------------------\u001b[0m",
      "\u001b[0;31mTypeError\u001b[0m                                 Traceback (most recent call last)",
      "\u001b[0;32m<ipython-input-58-ccb4355fcba5>\u001b[0m in \u001b[0;36m<module>\u001b[0;34m\u001b[0m\n\u001b[0;32m----> 1\u001b[0;31m \u001b[0mint\u001b[0m\u001b[0;34m(\u001b[0m\u001b[0;34m\"1\"\u001b[0m\u001b[0;34m)\u001b[0m \u001b[0;34m+\u001b[0m \u001b[0;34m\"1\"\u001b[0m\u001b[0;34m\u001b[0m\u001b[0;34m\u001b[0m\u001b[0m\n\u001b[0m",
      "\u001b[0;31mTypeError\u001b[0m: unsupported operand type(s) for +: 'int' and 'str'"
     ]
    }
   ],
   "source": [
    "int(\"1\") + \"1\""
   ]
  },
  {
   "cell_type": "code",
   "execution_count": 59,
   "id": "2e3cbfe3-9e1a-43f5-8ef4-418e31a90e01",
   "metadata": {
    "colab": {
     "base_uri": "https://localhost:8080/",
     "height": 36
    },
    "id": "2e3cbfe3-9e1a-43f5-8ef4-418e31a90e01",
    "outputId": "2cc843ab-8439-422f-e3b7-7283c861e23a"
   },
   "outputs": [
    {
     "data": {
      "application/vnd.google.colaboratory.intrinsic+json": {
       "type": "string"
      },
      "text/plain": [
       "'1111111111111111111111111111111111111111111111111111111111111111111111111111111111111111111111111111'"
      ]
     },
     "execution_count": 59,
     "metadata": {},
     "output_type": "execute_result"
    }
   ],
   "source": [
    "\"1\" * 100"
   ]
  },
  {
   "cell_type": "code",
   "execution_count": 59,
   "id": "4ece8de7-4686-4635-9735-3f95b6d3660e",
   "metadata": {
    "id": "4ece8de7-4686-4635-9735-3f95b6d3660e"
   },
   "outputs": [],
   "source": []
  },
  {
   "cell_type": "code",
   "execution_count": 59,
   "id": "aaa90912-fa74-44c5-9c17-9d552c8f8a91",
   "metadata": {
    "id": "aaa90912-fa74-44c5-9c17-9d552c8f8a91"
   },
   "outputs": [],
   "source": []
  }
 ],
 "metadata": {
  "colab": {
   "provenance": []
  },
  "kernelspec": {
   "display_name": "Python 3 (ipykernel)",
   "language": "python",
   "name": "python3"
  },
  "language_info": {
   "codemirror_mode": {
    "name": "ipython",
    "version": 3
   },
   "file_extension": ".py",
   "mimetype": "text/x-python",
   "name": "python",
   "nbconvert_exporter": "python",
   "pygments_lexer": "ipython3",
   "version": "3.9.13"
  }
 },
 "nbformat": 4,
 "nbformat_minor": 5
}
